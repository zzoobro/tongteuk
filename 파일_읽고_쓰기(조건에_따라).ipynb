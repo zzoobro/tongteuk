{
  "nbformat": 4,
  "nbformat_minor": 0,
  "metadata": {
    "colab": {
      "name": "파일 읽고 쓰기(조건에 따라).ipynb",
      "provenance": [],
      "collapsed_sections": [],
      "authorship_tag": "ABX9TyMtArZTrfHOcARss34BWi9r",
      "include_colab_link": true
    },
    "kernelspec": {
      "name": "python3",
      "display_name": "Python 3"
    },
    "language_info": {
      "name": "python"
    }
  },
  "cells": [
    {
      "cell_type": "markdown",
      "metadata": {
        "id": "view-in-github",
        "colab_type": "text"
      },
      "source": [
        "<a href=\"https://colab.research.google.com/github/zzoobro/tongteuk/blob/main/%ED%8C%8C%EC%9D%BC_%EC%9D%BD%EA%B3%A0_%EC%93%B0%EA%B8%B0(%EC%A1%B0%EA%B1%B4%EC%97%90_%EB%94%B0%EB%9D%BC).ipynb\" target=\"_parent\"><img src=\"https://colab.research.google.com/assets/colab-badge.svg\" alt=\"Open In Colab\"/></a>"
      ]
    },
    {
      "cell_type": "markdown",
      "metadata": {
        "id": "JY7fPKVlBm8w"
      },
      "source": [
        "# 파일 읽고 쓰기(조건에 따라)"
      ]
    },
    {
      "cell_type": "markdown",
      "metadata": {
        "id": "iDjQFtDjBt_P"
      },
      "source": [
        "## 파일 생성"
      ]
    },
    {
      "cell_type": "code",
      "metadata": {
        "id": "7kqPaPyy3NEK"
      },
      "source": [
        "\n",
        "with open('ids.txt', 'w') as f :\n",
        "    f.write('ID\\nJohn\\nKarl\\nAndy\\nTim\\n')"
      ],
      "execution_count": 1,
      "outputs": []
    },
    {
      "cell_type": "code",
      "metadata": {
        "id": "4T9FUzfn3UJ4"
      },
      "source": [
        "with open('data1.txt', 'w') as f :\n",
        "    f.write('ID\\tfield1\\tfield2\\tfield3\\nTom\\t1\\t3\\t1\\nJohn\\t1\\t3\\t3\\nTom\\t1\\t1\\t1\\nKarl\\t1\\t1\\t2\\nKarl\\t1\\t3\\t2\\nKarl\\t2\\t2\\t2\\nAndy\\t1\\t2\\t3')"
      ],
      "execution_count": 2,
      "outputs": []
    },
    {
      "cell_type": "code",
      "metadata": {
        "id": "qIUQ-ujj3UMH"
      },
      "source": [
        "with open('data2.txt', 'w') as f :\n",
        "    f.write('ID\\tfield1\\tfield2\\tfield3\\nTom\\t2\\t3\\t1\\nJane\\t1\\t1\\t3\\nJane\\t2\\t2\\t1\\nMax\\t3\\t1\\t2\\nKarl\\t1\\t4\\t2\\nMax\\t3\\t2\\t2\\nMax\\t2\\t2\\t1')"
      ],
      "execution_count": 3,
      "outputs": []
    },
    {
      "cell_type": "markdown",
      "metadata": {
        "id": "R9iXxzcWBxRX"
      },
      "source": [
        "## 조건에 맞는 행만 추출해서 새로운 파일로 저장하기"
      ]
    },
    {
      "cell_type": "code",
      "metadata": {
        "id": "FZZPuPhD3UYu"
      },
      "source": [
        "ids = [] # ids는 조건에 부합하는 names : John, Karl, Andy, Time만 추출하도록 하는 조건\n",
        "\n",
        "with open('new_data.txt', 'w') as writing:\n",
        "\n",
        "  with open('ids.txt', encoding='utf-8') as data_ids:\n",
        "    for item in data_ids:\n",
        "      ids.append(item.strip())\n",
        "\n",
        "  with open('data1.txt', encoding='utf-8') as data1:\n",
        "    for item in data1:\n",
        "      a,b,c,d = item.strip().split()\n",
        "      if a in ids:\n",
        "        writing.write(item)\n",
        "\n",
        "  writing.write('\\n')\n",
        "\n",
        "  with open('data2.txt', encoding='utf-8') as data2:\n",
        "    for item in data2:\n",
        "      a,b,c,d = item.strip().split()\n",
        "      if a != 'ID':\n",
        "        if a in ids:\n",
        "          writing.write(item)"
      ],
      "execution_count": 45,
      "outputs": []
    },
    {
      "cell_type": "markdown",
      "metadata": {
        "id": "2HcNfkXYB33n"
      },
      "source": [
        "## 새로 작성한 파일 확인"
      ]
    },
    {
      "cell_type": "code",
      "metadata": {
        "colab": {
          "base_uri": "https://localhost:8080/"
        },
        "id": "UDCnMJND7baf",
        "outputId": "51f1dd7a-92e6-4628-ad03-10ca0c5a7957"
      },
      "source": [
        "  with open(\"new_data.txt\", encoding='utf-8') as f:\n",
        "    for item in f :\n",
        "      print(item)"
      ],
      "execution_count": 46,
      "outputs": [
        {
          "output_type": "stream",
          "text": [
            "ID\tfield1\tfield2\tfield3\n",
            "\n",
            "John\t1\t3\t3\n",
            "\n",
            "Karl\t1\t1\t2\n",
            "\n",
            "Karl\t1\t3\t2\n",
            "\n",
            "Karl\t2\t2\t2\n",
            "\n",
            "Andy\t1\t2\t3\n",
            "\n",
            "Karl\t1\t4\t2\n",
            "\n"
          ],
          "name": "stdout"
        }
      ]
    }
  ]
}