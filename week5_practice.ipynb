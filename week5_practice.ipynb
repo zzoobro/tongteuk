{
  "nbformat": 4,
  "nbformat_minor": 0,
  "metadata": {
    "colab": {
      "name": "week5_practice.ipynb",
      "provenance": [],
      "collapsed_sections": [],
      "authorship_tag": "ABX9TyMNo7mEU9Rz1GFLD6LzpHkS",
      "include_colab_link": true
    },
    "kernelspec": {
      "name": "python3",
      "display_name": "Python 3"
    },
    "language_info": {
      "name": "python"
    }
  },
  "cells": [
    {
      "cell_type": "markdown",
      "metadata": {
        "id": "view-in-github",
        "colab_type": "text"
      },
      "source": [
        "<a href=\"https://colab.research.google.com/github/zzoobro/tongteuk/blob/main/week5_practice.ipynb\" target=\"_parent\"><img src=\"https://colab.research.google.com/assets/colab-badge.svg\" alt=\"Open In Colab\"/></a>"
      ]
    },
    {
      "cell_type": "markdown",
      "metadata": {
        "id": "mNaiyIxzLK9T"
      },
      "source": [
        "# week5_practice"
      ]
    },
    {
      "cell_type": "markdown",
      "metadata": {
        "id": "-qlCSQP-LLAn"
      },
      "source": [
        "## list and dictionary"
      ]
    },
    {
      "cell_type": "code",
      "metadata": {
        "id": "wQhwLZJ5LKWF"
      },
      "source": [
        "# list\n",
        "\n",
        "list1 = ['Jane', 'Lisa', 'Tom']"
      ],
      "execution_count": 1,
      "outputs": []
    },
    {
      "cell_type": "code",
      "metadata": {
        "colab": {
          "base_uri": "https://localhost:8080/"
        },
        "id": "MxKW1itBLorm",
        "outputId": "41d92a39-d55f-45cb-9346-dc725eb8d3c7"
      },
      "source": [
        "# list에 접근하기\n",
        "\n",
        "list1[0:2]"
      ],
      "execution_count": 8,
      "outputs": [
        {
          "output_type": "execute_result",
          "data": {
            "text/plain": [
              "['Jane', 'Lisa']"
            ]
          },
          "metadata": {
            "tags": []
          },
          "execution_count": 8
        }
      ]
    },
    {
      "cell_type": "code",
      "metadata": {
        "id": "COqrjh64LKYp"
      },
      "source": [
        "# dictionary\n",
        "\n",
        "dic1 = {'name': ['Jane', 'Lisa', 'Tom'], 'age':[22, 24,26]}"
      ],
      "execution_count": 2,
      "outputs": []
    },
    {
      "cell_type": "code",
      "metadata": {
        "colab": {
          "base_uri": "https://localhost:8080/"
        },
        "id": "0XJRAV1wLKa5",
        "outputId": "424ed3e2-a215-4a64-c64c-16c79c23f241"
      },
      "source": [
        "# dictionary에 접근하기\n",
        "\n",
        "dic1['name']"
      ],
      "execution_count": 5,
      "outputs": [
        {
          "output_type": "execute_result",
          "data": {
            "text/plain": [
              "['Jane', 'Lisa', 'Tom']"
            ]
          },
          "metadata": {
            "tags": []
          },
          "execution_count": 5
        }
      ]
    },
    {
      "cell_type": "markdown",
      "metadata": {
        "id": "RnKix9ktL24a"
      },
      "source": [
        "## bool 객체"
      ]
    },
    {
      "cell_type": "code",
      "metadata": {
        "colab": {
          "base_uri": "https://localhost:8080/"
        },
        "id": "cxZX5kaoLj3z",
        "outputId": "150ea891-09c3-450f-f6ac-6bd5d56cc9f4"
      },
      "source": [
        "condition = True & True\n",
        "condition"
      ],
      "execution_count": 10,
      "outputs": [
        {
          "output_type": "execute_result",
          "data": {
            "text/plain": [
              "True"
            ]
          },
          "metadata": {
            "tags": []
          },
          "execution_count": 10
        }
      ]
    },
    {
      "cell_type": "code",
      "metadata": {
        "colab": {
          "base_uri": "https://localhost:8080/"
        },
        "id": "Snil0stNL3kL",
        "outputId": "52daf5b5-454b-421c-edb6-e090b5f26208"
      },
      "source": [
        "condition = True & False\n",
        "condition"
      ],
      "execution_count": 11,
      "outputs": [
        {
          "output_type": "execute_result",
          "data": {
            "text/plain": [
              "False"
            ]
          },
          "metadata": {
            "tags": []
          },
          "execution_count": 11
        }
      ]
    },
    {
      "cell_type": "code",
      "metadata": {
        "colab": {
          "base_uri": "https://localhost:8080/"
        },
        "id": "fbCTx3-sL3md",
        "outputId": "0bb2a9e1-70a4-4deb-b2b9-6bd12c31757d"
      },
      "source": [
        "condition = False & True\n",
        "condition"
      ],
      "execution_count": 12,
      "outputs": [
        {
          "output_type": "execute_result",
          "data": {
            "text/plain": [
              "False"
            ]
          },
          "metadata": {
            "tags": []
          },
          "execution_count": 12
        }
      ]
    },
    {
      "cell_type": "code",
      "metadata": {
        "colab": {
          "base_uri": "https://localhost:8080/"
        },
        "id": "7BHI1bg-L3o5",
        "outputId": "8ca520df-a6e9-4d28-837b-e7614461bc1a"
      },
      "source": [
        "condition = False & False\n",
        "condition"
      ],
      "execution_count": 13,
      "outputs": [
        {
          "output_type": "execute_result",
          "data": {
            "text/plain": [
              "False"
            ]
          },
          "metadata": {
            "tags": []
          },
          "execution_count": 13
        }
      ]
    },
    {
      "cell_type": "code",
      "metadata": {
        "colab": {
          "base_uri": "https://localhost:8080/"
        },
        "id": "iVAq-UmYL3rN",
        "outputId": "703a1980-f752-4bc0-8ef4-dea8ffd52fe9"
      },
      "source": [
        "condition = True | True\n",
        "condition"
      ],
      "execution_count": 14,
      "outputs": [
        {
          "output_type": "execute_result",
          "data": {
            "text/plain": [
              "True"
            ]
          },
          "metadata": {
            "tags": []
          },
          "execution_count": 14
        }
      ]
    },
    {
      "cell_type": "code",
      "metadata": {
        "colab": {
          "base_uri": "https://localhost:8080/"
        },
        "id": "aD3lS1rBL3tb",
        "outputId": "0607e6e3-dceb-4fcf-9200-201dfa2c2f26"
      },
      "source": [
        "condition = True | False\n",
        "condition"
      ],
      "execution_count": 15,
      "outputs": [
        {
          "output_type": "execute_result",
          "data": {
            "text/plain": [
              "True"
            ]
          },
          "metadata": {
            "tags": []
          },
          "execution_count": 15
        }
      ]
    },
    {
      "cell_type": "code",
      "metadata": {
        "colab": {
          "base_uri": "https://localhost:8080/"
        },
        "id": "j3Ork64UL3vo",
        "outputId": "42f412f2-ec1a-4157-ba19-a826225135cc"
      },
      "source": [
        "condition = False | True\n",
        "condition"
      ],
      "execution_count": 16,
      "outputs": [
        {
          "output_type": "execute_result",
          "data": {
            "text/plain": [
              "True"
            ]
          },
          "metadata": {
            "tags": []
          },
          "execution_count": 16
        }
      ]
    },
    {
      "cell_type": "code",
      "metadata": {
        "colab": {
          "base_uri": "https://localhost:8080/"
        },
        "id": "kleaG886MP1f",
        "outputId": "bc456670-8fcb-4daa-cc1c-29c2fc3d173f"
      },
      "source": [
        "condition = False | False\n",
        "condition"
      ],
      "execution_count": 17,
      "outputs": [
        {
          "output_type": "execute_result",
          "data": {
            "text/plain": [
              "False"
            ]
          },
          "metadata": {
            "tags": []
          },
          "execution_count": 17
        }
      ]
    },
    {
      "cell_type": "markdown",
      "metadata": {
        "id": "ZGABbJ1dMbN6"
      },
      "source": [
        "## 조건문"
      ]
    },
    {
      "cell_type": "code",
      "metadata": {
        "id": "WcOHpgivMUF7"
      },
      "source": [
        "condition1 = True\n",
        "condition2 = False\n",
        "\n",
        "if condition1 :\n",
        "  print('condtion1 is satisfied')\n",
        "else:\n",
        "  print('condtion1 is not satisfied')"
      ],
      "execution_count": 17,
      "outputs": []
    },
    {
      "cell_type": "code",
      "metadata": {
        "colab": {
          "base_uri": "https://localhost:8080/"
        },
        "id": "2FvP9sSSMrSk",
        "outputId": "54f468e8-26c5-4304-802c-b5e01ff744a9"
      },
      "source": [
        "condition1 = False\n",
        "condition2 = True\n",
        "\n",
        "if condition1 :\n",
        "  print('condtion1 is satisfied')\n",
        "elif condition2 :\n",
        "  print('conditon1 is not satisfied')\n",
        "  print('But, condtion2 is satisfied')\n",
        "else:\n",
        "  print('neither condition 1,2 are not satisfied')"
      ],
      "execution_count": 19,
      "outputs": [
        {
          "output_type": "stream",
          "text": [
            "conditon1 is not satisfied\n",
            "But, condtion2 is satisfied\n"
          ],
          "name": "stdout"
        }
      ]
    },
    {
      "cell_type": "markdown",
      "metadata": {
        "id": "2rz7b0UQNYb6"
      },
      "source": [
        "## 반복문"
      ]
    },
    {
      "cell_type": "code",
      "metadata": {
        "colab": {
          "base_uri": "https://localhost:8080/"
        },
        "id": "JDdzuzelNYDC",
        "outputId": "6ce1f5ca-481a-46de-b00c-80037e243199"
      },
      "source": [
        "for i in ['a', 'b', 'c']:\n",
        "  print(i)"
      ],
      "execution_count": 21,
      "outputs": [
        {
          "output_type": "stream",
          "text": [
            "a\n",
            "b\n",
            "c\n"
          ],
          "name": "stdout"
        }
      ]
    },
    {
      "cell_type": "markdown",
      "metadata": {
        "id": "HIT43wjZNoSx"
      },
      "source": [
        "## 함수"
      ]
    },
    {
      "cell_type": "code",
      "metadata": {
        "colab": {
          "base_uri": "https://localhost:8080/"
        },
        "id": "QxK9IqlxNYFV",
        "outputId": "facddf7a-80a1-4cc3-a9fe-9ef23828c2c6"
      },
      "source": [
        "def plus(x, y):\n",
        "  return x+y\n",
        "\n",
        "plus(x=3,y=5)"
      ],
      "execution_count": 24,
      "outputs": [
        {
          "output_type": "execute_result",
          "data": {
            "text/plain": [
              "8"
            ]
          },
          "metadata": {
            "tags": []
          },
          "execution_count": 24
        }
      ]
    },
    {
      "cell_type": "markdown",
      "metadata": {
        "id": "mA3iqIBwOBgR"
      },
      "source": [
        "## 파일 읽기, 쓰기"
      ]
    },
    {
      "cell_type": "code",
      "metadata": {
        "id": "MjLxhjCzNYHr"
      },
      "source": [
        "# 파일 쓰기\n",
        "\n",
        "with open('made_file.txt', 'w') as data:\n",
        "  data.write('A\\tB\\nC\\tD\\nE\\tF\\n')"
      ],
      "execution_count": 31,
      "outputs": []
    },
    {
      "cell_type": "code",
      "metadata": {
        "colab": {
          "base_uri": "https://localhost:8080/"
        },
        "id": "PXoTmSMmNYJ4",
        "outputId": "0a6c4803-47ef-4d25-cc6b-c6a65d848ac5"
      },
      "source": [
        "# 파일 읽기\n",
        "\n",
        "list_made_file = []\n",
        "\n",
        "with open('made_file.txt', encoding='utf-8') as data:\n",
        "  for line in data:\n",
        "    print(line)\n",
        "    list_made_file.append(line.strip().split())\n",
        "\n",
        "list_made_file"
      ],
      "execution_count": 32,
      "outputs": [
        {
          "output_type": "stream",
          "text": [
            "A\tB\n",
            "\n",
            "C\tD\n",
            "\n",
            "E\tF\n",
            "\n"
          ],
          "name": "stdout"
        },
        {
          "output_type": "execute_result",
          "data": {
            "text/plain": [
              "[['A', 'B'], ['C', 'D'], ['E', 'F']]"
            ]
          },
          "metadata": {
            "tags": []
          },
          "execution_count": 32
        }
      ]
    },
    {
      "cell_type": "markdown",
      "metadata": {
        "id": "vtXTFZ4oPh0V"
      },
      "source": [
        "## numpy 패키지"
      ]
    },
    {
      "cell_type": "code",
      "metadata": {
        "id": "hl1hoicrNYMZ"
      },
      "source": [
        "import numpy as np"
      ],
      "execution_count": 36,
      "outputs": []
    },
    {
      "cell_type": "code",
      "metadata": {
        "id": "65nzJcIhPkRb"
      },
      "source": [
        "a = [1,2,3]\n",
        "b = [4,5,6]"
      ],
      "execution_count": 37,
      "outputs": []
    },
    {
      "cell_type": "code",
      "metadata": {
        "colab": {
          "base_uri": "https://localhost:8080/"
        },
        "id": "Uz3P15iHPkTv",
        "outputId": "bca713ae-8fea-42e6-90d5-61eaf6988f77"
      },
      "source": [
        "# list는 원소별 계산 불가능\n",
        "\n",
        "a+b"
      ],
      "execution_count": 38,
      "outputs": [
        {
          "output_type": "execute_result",
          "data": {
            "text/plain": [
              "[1, 2, 3, 4, 5, 6]"
            ]
          },
          "metadata": {
            "tags": []
          },
          "execution_count": 38
        }
      ]
    },
    {
      "cell_type": "code",
      "metadata": {
        "colab": {
          "base_uri": "https://localhost:8080/"
        },
        "id": "NS9ZQ37ePkV_",
        "outputId": "7663d3e4-cee5-4081-b2f6-ad4877cb4e7a"
      },
      "source": [
        "# numpy의 array는 원소별 계산 가능\n",
        "\n",
        "np.array(a) + np.array(b)"
      ],
      "execution_count": 39,
      "outputs": [
        {
          "output_type": "execute_result",
          "data": {
            "text/plain": [
              "array([5, 7, 9])"
            ]
          },
          "metadata": {
            "tags": []
          },
          "execution_count": 39
        }
      ]
    }
  ]
}