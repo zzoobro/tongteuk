{
  "nbformat": 4,
  "nbformat_minor": 0,
  "metadata": {
    "colab": {
      "name": "ANN.ipynb",
      "provenance": [],
      "collapsed_sections": [],
      "authorship_tag": "ABX9TyPAHk0YCM66vFDVkdfj8pkU",
      "include_colab_link": true
    },
    "kernelspec": {
      "name": "python3",
      "display_name": "Python 3"
    },
    "language_info": {
      "name": "python"
    }
  },
  "cells": [
    {
      "cell_type": "markdown",
      "metadata": {
        "id": "view-in-github",
        "colab_type": "text"
      },
      "source": [
        "<a href=\"https://colab.research.google.com/github/zzoobro/tongteuk/blob/main/ANN.ipynb\" target=\"_parent\"><img src=\"https://colab.research.google.com/assets/colab-badge.svg\" alt=\"Open In Colab\"/></a>"
      ]
    },
    {
      "cell_type": "markdown",
      "metadata": {
        "id": "U78hLbzg93Wi"
      },
      "source": [
        "----------\n",
        "# Artificial Neural Network Model(KERAS)\n",
        "---------"
      ]
    },
    {
      "cell_type": "markdown",
      "metadata": {
        "id": "TB9pzaST-L8p"
      },
      "source": [
        "## Import Data"
      ]
    },
    {
      "cell_type": "markdown",
      "metadata": {
        "id": "faA71fjoFMuP"
      },
      "source": [
        "Import example data from 'mnist' library\n",
        "\n",
        "Train, test set will be saved\n"
      ]
    },
    {
      "cell_type": "code",
      "metadata": {
        "colab": {
          "base_uri": "https://localhost:8080/"
        },
        "id": "n3Tk-NZE93zD",
        "outputId": "1233fe9a-d7c9-44bb-b6e7-96e670b85917"
      },
      "source": [
        "from tensorflow.keras.datasets import mnist\n",
        "\n",
        "(train_images, train_labels), (test_images, test_labels) = mnist.load_data()"
      ],
      "execution_count": 1,
      "outputs": [
        {
          "output_type": "stream",
          "text": [
            "Downloading data from https://storage.googleapis.com/tensorflow/tf-keras-datasets/mnist.npz\n",
            "11493376/11490434 [==============================] - 0s 0us/step\n"
          ],
          "name": "stdout"
        }
      ]
    },
    {
      "cell_type": "markdown",
      "metadata": {
        "id": "4PR7uT11-M2L"
      },
      "source": [
        "Check the shape and structure of data\n",
        "\n",
        "Data has 3D shape. \n",
        "\n",
        "There are 60000 objects in training data. \n",
        "\n",
        "Each object has 28 by 28 pixels and labels from 0 to 9."
      ]
    },
    {
      "cell_type": "code",
      "metadata": {
        "colab": {
          "base_uri": "https://localhost:8080/"
        },
        "id": "KGt6CahT-M_O",
        "outputId": "8a04f320-8688-42cf-93a1-ef25ee10d0b1"
      },
      "source": [
        "train_images.shape"
      ],
      "execution_count": 2,
      "outputs": [
        {
          "output_type": "execute_result",
          "data": {
            "text/plain": [
              "(60000, 28, 28)"
            ]
          },
          "metadata": {
            "tags": []
          },
          "execution_count": 2
        }
      ]
    },
    {
      "cell_type": "code",
      "metadata": {
        "colab": {
          "base_uri": "https://localhost:8080/"
        },
        "id": "zJEu2FjR-TNG",
        "outputId": "d0ee88e5-999d-428e-ba86-f1f54b5f7505"
      },
      "source": [
        "train_labels.shape"
      ],
      "execution_count": 3,
      "outputs": [
        {
          "output_type": "execute_result",
          "data": {
            "text/plain": [
              "(60000,)"
            ]
          },
          "metadata": {
            "tags": []
          },
          "execution_count": 3
        }
      ]
    },
    {
      "cell_type": "markdown",
      "metadata": {
        "id": "qEA5AU9S-bCC"
      },
      "source": [
        "We have to reshape data as 2D shape.\n",
        "\n",
        "After reshaping our data has 60000 objects and each object has 28*28 features."
      ]
    },
    {
      "cell_type": "code",
      "metadata": {
        "id": "l53d3m89-bIM"
      },
      "source": [
        "train_images = train_images.reshape(60000, 28*28)\n",
        "test_images = test_images.reshape(10000, 28*28)"
      ],
      "execution_count": 4,
      "outputs": []
    },
    {
      "cell_type": "markdown",
      "metadata": {
        "id": "qAR-woU1-54o"
      },
      "source": [
        "To traing the ANN model, we need to scaling data.\n",
        "\n",
        "We will use min-max scaler.\n",
        "\n",
        "In each object, min and max value is 0 and 255"
      ]
    },
    {
      "cell_type": "code",
      "metadata": {
        "colab": {
          "base_uri": "https://localhost:8080/"
        },
        "id": "yy5p2sP2_uS8",
        "outputId": "9e90aacf-eb85-4ebb-ffbf-d27573745206"
      },
      "source": [
        "min(train_images[0]), max(train_images[0])"
      ],
      "execution_count": 5,
      "outputs": [
        {
          "output_type": "execute_result",
          "data": {
            "text/plain": [
              "(0, 255)"
            ]
          },
          "metadata": {
            "tags": []
          },
          "execution_count": 5
        }
      ]
    },
    {
      "cell_type": "code",
      "metadata": {
        "id": "wUnZOtmv_3hv"
      },
      "source": [
        "train_images = train_images.astype('float32') / 255\n",
        "test_images = test_images.astype('float32') / 255"
      ],
      "execution_count": 6,
      "outputs": []
    },
    {
      "cell_type": "markdown",
      "metadata": {
        "id": "XuODlGvDAfay"
      },
      "source": [
        "To training ANN model, we need to reshape labels.\n",
        "\n",
        "We will convert labels which has 10 category to array which has 10 columns.\n",
        "\n",
        "Labels : (60000, 1) -> (60000, 10)"
      ]
    },
    {
      "cell_type": "code",
      "metadata": {
        "id": "6GXoXbefAdux"
      },
      "source": [
        "from tensorflow.keras.utils import to_categorical\n",
        "\n",
        "train_labels = to_categorical(train_labels)\n",
        "test_labels = to_categorical(test_labels)"
      ],
      "execution_count": 7,
      "outputs": []
    },
    {
      "cell_type": "markdown",
      "metadata": {
        "id": "5W4fiJuEALEP"
      },
      "source": [
        "Making a multi-layer perceptron model by keras library.\n",
        "\n",
        "We will use 2 layer. First layer has 512 units and second one has 10 units.\n",
        "\n",
        "We use relu function as activation function and second activation function will be softmax function."
      ]
    },
    {
      "cell_type": "code",
      "metadata": {
        "id": "NBC48CCZALPl"
      },
      "source": [
        "from tensorflow.keras import models, layers\n",
        "\n",
        "model_ann = models.Sequential()\n",
        "model_ann.add(layers.Dense(512, activation='relu', input_shape=(28*28,)))\n",
        "model_ann.add(layers.Dense(10, activation='softmax'))"
      ],
      "execution_count": 8,
      "outputs": []
    },
    {
      "cell_type": "markdown",
      "metadata": {
        "id": "VIiKtedvnw-U"
      },
      "source": [
        "We can check the model summary we made."
      ]
    },
    {
      "cell_type": "code",
      "metadata": {
        "colab": {
          "base_uri": "https://localhost:8080/"
        },
        "id": "iNRBF3RUCdGF",
        "outputId": "9bdc9630-7829-47e3-b944-0ffab9c5b94f"
      },
      "source": [
        "model_ann.summary()"
      ],
      "execution_count": 9,
      "outputs": [
        {
          "output_type": "stream",
          "text": [
            "Model: \"sequential\"\n",
            "_________________________________________________________________\n",
            "Layer (type)                 Output Shape              Param #   \n",
            "=================================================================\n",
            "dense (Dense)                (None, 512)               401920    \n",
            "_________________________________________________________________\n",
            "dense_1 (Dense)              (None, 10)                5130      \n",
            "=================================================================\n",
            "Total params: 407,050\n",
            "Trainable params: 407,050\n",
            "Non-trainable params: 0\n",
            "_________________________________________________________________\n"
          ],
          "name": "stdout"
        }
      ]
    },
    {
      "cell_type": "markdown",
      "metadata": {
        "id": "gX4NF583CgaZ"
      },
      "source": [
        "Below code is method of model learning.\n",
        "\n",
        "Optimizer method of Model is rmsprop.\n",
        "\n",
        "Loss function of Model is categorical_crossentropy.\n",
        "\n",
        "Model will use accuracy as learning method."
      ]
    },
    {
      "cell_type": "code",
      "metadata": {
        "id": "bQB7NyOpCfSf"
      },
      "source": [
        "model_ann.compile(optimizer='rmsprop', loss='categorical_crossentropy', metrics=['accuracy'])"
      ],
      "execution_count": 10,
      "outputs": []
    },
    {
      "cell_type": "markdown",
      "metadata": {
        "id": "-DvaNr6QCsg7"
      },
      "source": [
        "Finally, training the model with training features and training labels."
      ]
    },
    {
      "cell_type": "code",
      "metadata": {
        "colab": {
          "base_uri": "https://localhost:8080/"
        },
        "id": "m4X4EmLkCso7",
        "outputId": "c3d3fdcb-3440-4420-c534-69358fb8b981"
      },
      "source": [
        "model_ann.fit(train_images, train_labels, epochs=5, batch_size=128)"
      ],
      "execution_count": 11,
      "outputs": [
        {
          "output_type": "stream",
          "text": [
            "Epoch 1/5\n",
            "469/469 [==============================] - 6s 10ms/step - loss: 0.4268 - accuracy: 0.8775\n",
            "Epoch 2/5\n",
            "469/469 [==============================] - 5s 10ms/step - loss: 0.1109 - accuracy: 0.9669\n",
            "Epoch 3/5\n",
            "469/469 [==============================] - 5s 10ms/step - loss: 0.0693 - accuracy: 0.9790\n",
            "Epoch 4/5\n",
            "469/469 [==============================] - 5s 10ms/step - loss: 0.0501 - accuracy: 0.9851\n",
            "Epoch 5/5\n",
            "469/469 [==============================] - 5s 10ms/step - loss: 0.0363 - accuracy: 0.9893\n"
          ],
          "name": "stdout"
        },
        {
          "output_type": "execute_result",
          "data": {
            "text/plain": [
              "<tensorflow.python.keras.callbacks.History at 0x7ff303006650>"
            ]
          },
          "metadata": {
            "tags": []
          },
          "execution_count": 11
        }
      ]
    },
    {
      "cell_type": "markdown",
      "metadata": {
        "id": "5kv9Q74zC4wo"
      },
      "source": [
        "Check the performance of model.\n",
        "\n",
        "Accuracy of model is about 98%"
      ]
    },
    {
      "cell_type": "code",
      "metadata": {
        "colab": {
          "base_uri": "https://localhost:8080/"
        },
        "id": "1GaSqbXcC6Zw",
        "outputId": "75184edf-d589-4f1c-b9de-d28406bc3d7f"
      },
      "source": [
        "test_loss, test_acc = model_ann.evaluate(test_images, test_labels)"
      ],
      "execution_count": 12,
      "outputs": [
        {
          "output_type": "stream",
          "text": [
            "313/313 [==============================] - 1s 3ms/step - loss: 0.0720 - accuracy: 0.9778\n"
          ],
          "name": "stdout"
        }
      ]
    },
    {
      "cell_type": "code",
      "metadata": {
        "colab": {
          "base_uri": "https://localhost:8080/"
        },
        "id": "e8s7FZCxEsup",
        "outputId": "46004f11-c846-486c-fbba-45034597a560"
      },
      "source": [
        "print('Accuray of test : {}'.format(round(test_acc, 3)))"
      ],
      "execution_count": 13,
      "outputs": [
        {
          "output_type": "stream",
          "text": [
            "Accuray of test : 0.978\n"
          ],
          "name": "stdout"
        }
      ]
    }
  ]
}